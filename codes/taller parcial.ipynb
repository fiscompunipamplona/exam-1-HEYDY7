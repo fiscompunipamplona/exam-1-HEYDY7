{
 "cells": [
  {
   "cell_type": "markdown",
   "metadata": {},
   "source": [
    "# TALLER PARCIAL\n",
    "#  1. graficar y vs t\n",
    "# 2 .derivar numericamente \n",
    "\\begin{equation}\n",
    "\\frac{dy}{dt}  \n",
    "\\end{equation}\n",
    "# 3. comparar con el modelo analitico\n",
    "# 4.analisis del error"
   ]
  },
  {
   "cell_type": "markdown",
   "metadata": {},
   "source": [
    "# fisica del problema:\n",
    "-PROBLEMA: un filtro de cafe en caida libre que el actuan la fuerza gravitacional y una fuerza de arrastre hacia arriba tenemos\n",
    "\\begin{equation}\n",
    " \\vec{f}= m*\\vec{a}=\\vec{fg}-\\vec{fa}\n",
    "\\end{equation}\n",
    "-  teniendo en cuenta que $\\vec{f}=m\\frac{dv}{dt}$ con una  fuerza de acelerecacion que es igual$F_{a} = cv $ y la fuerza de gravedad que es igual$ F_{g} = mg $ tenemos que:\n",
    "\\begin{equation}\n",
    "cv-mg = -m\\frac{dv}{dt}\n",
    "\\end{equation}\n",
    "- despejamos $ \\frac{dv}{dt}$ \n",
    "\\begin{equation}\n",
    "\\frac{dv}{dt} = g - \\frac{m}{c}v .......................(1)\n",
    "\\end{equation}"
   ]
  },
  {
   "cell_type": "markdown",
   "metadata": {},
   "source": [
    "-solucion analitica de la ecuacion .............(1)\n",
    "- primero aplicamos integral a ambos lados:\n",
    "\\begin{equation}\n",
    "\\int \\frac{dv}{g - \\frac{c}{m}v} = \\int dt\n",
    "\\end{equation}\n",
    "\n",
    "- para resolverlas necesitamos una sustitucion $u = {g - \\frac{c}{m}v} $ ,\n",
    "$du = -\\frac{c}{m}dt $ y $\\frac{m}{c}du = dt $ por lo tanto la integral me queda:\n",
    "\n",
    "\\begin{equation}\n",
    "\\int_{v_{i}}^{v}-\\frac{mdu}{cu} = \\int_{t_{i}}^{t} dt\n",
    "\\end{equation}\n",
    "\n",
    "- partiendo de $Vinicial=0$ y $Tinicial=0$ nos quedaria:\n",
    "\n",
    "\\begin{equation}\n",
    "ln(g - \\frac{cv}{m}) - ln (g) = -\\frac{c}{m}t\n",
    "\\end{equation}\n",
    "\n",
    "\\begin{equation}\n",
    "\\frac{g-\\frac{c}{m}v}{g} = e^{-\\frac{c}{m}t}\n",
    "\\end{equation}\n",
    "\n",
    "\\begin{equation}\n",
    "g-ge^{-\\frac{c}{m}t} = \\frac{c}{m}v\n",
    "\\end{equation}\n",
    "\n",
    "despejando $v$ nos queda:\n",
    "\n",
    "\\begin{equation}\n",
    "v=g\\frac{m}{c}(1-ge^{-\\frac{c}{m}t})\n",
    "\\end{equation}"
   ]
  },
  {
   "cell_type": "markdown",
   "metadata": {},
   "source": [
    "# 1\n",
    "- grafica de  de $ y vs t$\n",
    "para esta grafica usamos unos dtatos anexados en en una carpeta /data en la en cual encontramos $Y=pocision $ y $t=tiempo$"
   ]
  },
  {
   "cell_type": "code",
   "execution_count": 1,
   "metadata": {},
   "outputs": [],
   "source": [
    "\n",
    "from numpy import loadtxt, shape\n",
    "from matplotlib.pyplot import plot as plt"
   ]
  },
  {
   "cell_type": "code",
   "execution_count": 2,
   "metadata": {},
   "outputs": [],
   "source": [
    "data = loadtxt('../data/falling.txt', comments=\"//\")"
   ]
  },
  {
   "cell_type": "code",
   "execution_count": 3,
   "metadata": {},
   "outputs": [
    {
     "data": {
      "text/plain": [
       "[<matplotlib.lines.Line2D at 0x81ad710>]"
      ]
     },
     "execution_count": 3,
     "metadata": {},
     "output_type": "execute_result"
    },
    {
     "data": {
      "image/png": "[encoded data removed]",
      "text/plain": [
       "<Figure size 432x288 with 1 Axes>"
      ]
     },
     "metadata": {
      "needs_background": "light"
     },
     "output_type": "display_data"
    }
   ],
   "source": [
    "plt(data[:,0], data[:,1], 'o')"
   ]
  },
  {
   "cell_type": "markdown",
   "metadata": {},
   "source": [
    "con el fin de ver el comportamiento de la velocidad  contra el tiempo usaremos un metodo llamado metodo de diferencias finitas \n",
    "# metodo de diferencias finitas\n",
    " Una diferencia finita es una expresión matemática de la forma $f(x + b) − f(x +a)$. Si una diferencia finita se divide por $b − a $se obtiene una expresión similar al cociente diferencial, que difiere en que se emplean cantidades finitas en lugar de infinitesimales. La aproximación de las derivadas por diferencias finitas desempeña un papel central en los métodos de diferencias finitas del análisis numérico para la resolución de ecuaciones diferenciales."
   ]
  },
  {
   "cell_type": "markdown",
   "metadata": {},
   "source": [
    " # 2\n",
    " - derivada de la velocidad por los tres metodos con sus graficas respectivamente: \n"
   ]
  },
  {
   "cell_type": "code",
   "execution_count": 4,
   "metadata": {},
   "outputs": [],
   "source": [
    "\n",
    "from pylab import plot, show, grid\n",
    "from math import exp\n",
    "\n",
    "vela=[]\n",
    "velc=[]\n",
    "veld=[]\n",
    "\n",
    "timea=[]\n",
    "timec=[]\n",
    "timed=[]\n",
    "\n"
   ]
  },
  {
   "cell_type": "code",
   "execution_count": 5,
   "metadata": {},
   "outputs": [
    {
     "data": {
      "image/png": "[encoded data removed]",
      "text/plain": [
       "<Figure size 432x288 with 1 Axes>"
      ]
     },
     "metadata": {
      "needs_background": "light"
     },
     "output_type": "display_data"
    }
   ],
   "source": [
    "# metodo por  atras\n",
    "for t in range (1,27):\n",
    "    \n",
    "    va=(data[t,1]-data[t-1,1])/(data[t,0]-data[t-1,0]) \n",
    "    vela.append(va)\n",
    "    timea.append(data[t,0])\n",
    "    \n",
    "# metodo por el centro    \n",
    "    \n",
    "for t in range (1,26):\n",
    "    \n",
    "    vc=(data[t+1,1]-data[t-1,1])/(2*(data[t,0]-data[t-1,0]))\n",
    "    velc.append(vc)\n",
    "    timec.append(data[t,0])\n",
    "    \n",
    "#metodo por adelante\n",
    "\n",
    "for t in range (1,26):\n",
    "    \n",
    "    vd=(data[t+1,1]-data[t,1])/(data[t+1,0]-data[t,0])# hacia adelante\n",
    "    veld.append(vd)\n",
    "    timed.append(data[t,0])\n",
    "\n",
    "plot (timea,vela,'om')\n",
    "plot (timec,velc,'ok')\n",
    "plot (timed,veld,'oc')\n",
    "show ()    \n",
    "\n"
   ]
  },
  {
   "cell_type": "markdown",
   "metadata": {},
   "source": [
    "Despues de aplicar este metodo nos podemos dar cuenta que la velocidad despues de un tiempo de 0.6s aproximadamente va a tender a ser constante. ahora usando este mismo metodo vamos a hallar la aceleracion contra el tiempo enfasis: metodo por atras.\n"
   ]
  },
  {
   "cell_type": "markdown",
   "metadata": {},
   "source": [
    "- calculo de la aceleracion a partir de las velocidades con la velocidad de metodo por atras"
   ]
  },
  {
   "cell_type": "code",
   "execution_count": 6,
   "metadata": {},
   "outputs": [
    {
     "data": {
      "image/png": "[encoded data removed]",
      "text/plain": [
       "<Figure size 432x288 with 1 Axes>"
      ]
     },
     "metadata": {
      "needs_background": "light"
     },
     "output_type": "display_data"
    }
   ],
   "source": [
    "from pylab import plot, show, grid\n",
    "from math import exp\n",
    "\n",
    "\n",
    "acele=[]\n",
    "timeac=[]\n",
    "    \n",
    "for t in range (1,25):\n",
    "    \n",
    "    ac=(vela[t]-vela[t-1])/(data[t,0]-data[t-1,0])\n",
    "    acele.append(ac)\n",
    "    timeac.append (data[t,0])\n",
    "    \n",
    "plot (timeac,acele,'o')\n",
    "\n",
    "show ()\n",
    "\n"
   ]
  },
  {
   "cell_type": "code",
   "execution_count": 7,
   "metadata": {},
   "outputs": [
    {
     "name": "stderr",
     "output_type": "stream",
     "text": [
      "C:\\ProgramData\\Anaconda2\\lib\\site-packages\\matplotlib\\cbook\\deprecation.py:107: MatplotlibDeprecationWarning: Passing one of 'on', 'true', 'off', 'false' as a boolean is deprecated; use an actual boolean (True/False) instead.\n",
      "  warnings.warn(message, mplDeprecation, stacklevel=1)\n"
     ]
    },
    {
     "data": {
      "image/png": "[encoded data removed]",
      "text/plain": [
       "<Figure size 432x288 with 1 Axes>"
      ]
     },
     "metadata": {
      "needs_background": "light"
     },
     "output_type": "display_data"
    },
    {
     "name": "stdout",
     "output_type": "stream",
     "text": [
      "([-1.943129490677963, -1.6561906246445421, -1.6020904372120717, -1.9958545206368732, -1.9669229130127988, 0.6556409710042955, -2.950384369519198, -0.8195512137554385, -0.8888466009346554, -0.09499946880568515, 0.32782048550201176, -2.2081241645408136, -2.2264664238426137, -1.403231590381139, 2.148192213629503, 0.7419324711662388, -8.144873200768473, 1.652455548945562, -0.33049110978911295, -0.8262277744727441, 0.8262277744726952, 1.9829466587350568, 3.304911097891309, -7.105558860466631], 15)\n"
     ]
    }
   ],
   "source": [
    "from  pylab import plot, show, grid\n",
    "from math import exp\n",
    "\n",
    "\n",
    "acele=[]\n",
    "timeac=[]\n",
    "    \n",
    "for t in range (1,25):\n",
    "    \n",
    "    ac=(vela[t]-vela[t-1])/(data[t,0]-data[t-1,0])\n",
    "    acele.append(ac)\n",
    "    timeac.append (data[t,0])\n",
    "    \n",
    "    \n",
    "plot (acele,'o')\n",
    "grid('on')\n",
    "show ()\n",
    "print(acele,15)"
   ]
  },
  {
   "cell_type": "markdown",
   "metadata": {},
   "source": []
  },
  {
   "cell_type": "markdown",
   "metadata": {},
   "source": [
    "partiendo de que la aceleracion es:\n",
    "\\begin{equation}\n",
    " \\vec{a}=  g - \\frac{m}{c}v\n",
    "\\end{equation}\n",
    "-  de la graficas anteriores de aceleracion concluimos que esta ivba a tender a ser cer0 en un tiempo= 0.6 s por lo que la  velocidad $Vfinal$ nos queda:\n",
    "\\begin{equation}\n",
    " 0=  g - \\frac{m}{c}vfinal\n",
    "\\end{equation}\n",
    "\n",
    "\\begin{equation}\n",
    " \\frac{m}{c}=  \\frac{vfinal}{g}\n",
    "\\end{equation}"
   ]
  },
  {
   "cell_type": "markdown",
   "metadata": {},
   "source": [
    "# 3\n",
    "-comparaciones con el modelos analiticos\n"
   ]
  },
  {
   "cell_type": "markdown",
   "metadata": {},
   "source": [
    "- grafica de velocidad analita con respecto a la numerica \n"
   ]
  },
  {
   "cell_type": "markdown",
   "metadata": {},
   "source": [
    "\n",
    "- metodo numerico con velocidad por metodo de atras"
   ]
  },
  {
   "cell_type": "markdown",
   "metadata": {},
   "source": []
  },
  {
   "cell_type": "code",
   "execution_count": 8,
   "metadata": {},
   "outputs": [
    {
     "data": {
      "image/png": "[encoded data removed]",
      "text/plain": [
       "<Figure size 432x288 with 1 Axes>"
      ]
     },
     "metadata": {
      "needs_background": "light"
     },
     "output_type": "display_data"
    }
   ],
   "source": [
    "from pylab import plot, show,grid\n",
    "from math import exp\n",
    "\n",
    "vela=[]\n",
    "time=[]\n",
    "\n",
    "# metodo por  atras\n",
    "for t in range (5,15):\n",
    "    \n",
    "    va=(data[t,1]-data[t-1,1])/(data[t,0]-data[t-1,0]) \n",
    "    vela.append(va)\n",
    "    time.append(data[t,0])\n",
    "    \n",
    "plot (time,vela,'m')\n",
    "grid('on')\n",
    "\n",
    "show () \n",
    "\n"
   ]
  },
  {
   "cell_type": "markdown",
   "metadata": {},
   "source": [
    " \n",
    "- partiendo de la velocidades final con respecto al tiempo tenemos pra la grafica numerica:\n",
    "\n",
    "\n"
   ]
  },
  {
   "cell_type": "code",
   "execution_count": 11,
   "metadata": {},
   "outputs": [
    {
     "name": "stdout",
     "output_type": "stream",
     "text": [
      "[-0.2874803383349746, -0.35806562715438295, -0.43376892688939017, -0.5149613352031256, -0.6020408573753397, -0.6954343573247471, -0.795599650096452, -0.9030277460718293, -1.0182452579019847, -1.1418169819635806]\n"
     ]
    },
    {
     "data": {
      "text/plain": [
       "<function matplotlib.pyplot.show>"
      ]
     },
     "execution_count": 11,
     "metadata": {},
     "output_type": "execute_result"
    },
    {
     "data": {
      "image/png": "[encoded data removed]",
      "text/plain": [
       "<Figure size 432x288 with 1 Axes>"
      ]
     },
     "metadata": {
      "needs_background": "light"
     },
     "output_type": "display_data"
    }
   ],
   "source": [
    "from pylab import plot, show\n",
    "from math import exp\n",
    "\n",
    "time=[]\n",
    "vana=[]\n",
    "\n",
    "\n",
    "g=9.8\n",
    "cm=0.070\n",
    "vo=0\n",
    "\n",
    "for t in range (5,15):\n",
    "    \n",
    "    v=(cm*g)*(-exp(cm*t)+1)\n",
    "    \n",
    "    time.append (data[t,0])\n",
    "    vana.append (v)\n",
    "    \n",
    "print(vana)\n",
    "\n",
    "plot (time,vana,'g')\n",
    "\n",
    "\n",
    "grid('on')\n",
    "show"
   ]
  },
  {
   "cell_type": "code",
   "execution_count": 12,
   "metadata": {},
   "outputs": [
    {
     "data": {
      "image/png": "[encoded data removed]",
      "text/plain": [
       "<Figure size 432x288 with 1 Axes>"
      ]
     },
     "metadata": {
      "needs_background": "light"
     },
     "output_type": "display_data"
    }
   ],
   "source": [
    "from pylab import plot, show,grid\n",
    "from math import exp\n",
    "\n",
    "vela=[]\n",
    "time=[]\n",
    "vana=[]\n",
    "\n",
    "\n",
    "g=9.8\n",
    "cm=0.070\n",
    "vo=0\n",
    "for t in range (5,10):\n",
    "    va=(data[t,1]-data[t-1,1])/(data[t,0]-data[t-1,0]) \n",
    "    v=(cm*g)*(-exp(cm*t)+1)\n",
    "    vela.append(va)\n",
    "    time.append(data[t,0])  \n",
    "    vana.append (v)\n",
    "    \n",
    "plot (time,vela,'m')\n",
    "\n",
    "plot (time,vana,'g')\n",
    "\n",
    "grid('on')\n",
    "show ()  \n",
    "             \n",
    "       \n",
    "        "
   ]
  },
  {
   "cell_type": "markdown",
   "metadata": {},
   "source": [
    "- de las comparaciones entre el analitico y el numerico tenemos que al tomar una velocidad final a vista es muy complicado  por lo que deberiamos tomar muchos datos para poder logar una aproximacion mejor."
   ]
  },
  {
   "cell_type": "markdown",
   "metadata": {},
   "source": [
    "# 4\n",
    "analisis del error\n"
   ]
  },
  {
   "cell_type": "code",
   "execution_count": 10,
   "metadata": {},
   "outputs": [
    {
     "name": "stdout",
     "output_type": "stream",
     "text": [
      "50.206153304756185\n"
     ]
    },
    {
     "data": {
      "image/png": "[encoded data removed]",
      "text/plain": [
       "<Figure size 432x288 with 1 Axes>"
      ]
     },
     "metadata": {
      "needs_background": "light"
     },
     "output_type": "display_data"
    }
   ],
   "source": [
    "from pylab import plot, show,grid\n",
    "from math import exp\n",
    "\n",
    "vela=[]\n",
    "time=[]\n",
    "vana=[]\n",
    "err=[]\n",
    "\n",
    "g=9.8\n",
    "cm=0.070\n",
    "vo=0\n",
    "\n",
    "for t in range (5,10):\n",
    "    va=(data[t,1]-data[t-1,1])/(data[t,0]-data[t-1,0]) \n",
    "    v=(cm*g)*(-exp(cm*t)+1)\n",
    "    error=abs((v-va)/va)*100\n",
    "    \n",
    "    vela.append(va)\n",
    "    time.append(data[t,0])  \n",
    "    vana.append (v)\n",
    "    err.append(error)\n",
    "\n",
    "\n",
    "\n",
    "print(error)\n",
    "\n",
    "plot (time,vela,'m')\n",
    "plot (time,vana,'g')\n",
    "plot (time,err,'r')\n",
    "grid('on')\n",
    "show () "
   ]
  },
  {
   "cell_type": "markdown",
   "metadata": {},
   "source": [
    "tenemos un error muy alto esto se da al la precision de los datos debido a que entre mas datos tengamos mas menos error esta grafica nos muestra que en el intervalo de tiempo que usamos a vista tiene un error muy alto donde no consideraramos este a vista si no por otro metodo lo podriamos reducir en cuanto al la velocidad.\n"
   ]
  }
 ],
 "metadata": {
  "kernelspec": {
   "display_name": "Python 2",
   "language": "python",
   "name": "python2"
  },
  "language_info": {
   "codemirror_mode": {
    "name": "ipython",
    "version": 2
   },
   "file_extension": ".py",
   "mimetype": "text/x-python",
   "name": "python",
   "nbconvert_exporter": "python",
   "pygments_lexer": "ipython2",
   "version": "2.7.16"
  }
 },
 "nbformat": 4,
 "nbformat_minor": 2
}
